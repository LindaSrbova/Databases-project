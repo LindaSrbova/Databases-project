{
 "cells": [
  {
   "cell_type": "markdown",
   "metadata": {},
   "source": [
    "# Preamble"
   ]
  },
  {
   "cell_type": "code",
   "execution_count": 1,
   "metadata": {},
   "outputs": [],
   "source": [
    "import sys\n",
    "# pandas to manipulate SQL answer set\n",
    "import pandas as pd\n",
    "import time,os\n",
    "# for Posgresql and other RDBMS\n",
    "from sqlalchemy import create_engine,event,schema,Table,Column, Integer, Float, String, MetaData, TIMESTAMP, Date, text, inspect\n",
    "from sqlalchemy_utils import database_exists,create_database\n",
    "from sqlalchemy.orm import sessionmaker\n",
    "from sqlalchemy.schema import CreateTable"
   ]
  },
  {
   "cell_type": "markdown",
   "metadata": {},
   "source": [
    "## Connect to the DB server"
   ]
  },
  {
   "cell_type": "code",
   "execution_count": 4,
   "metadata": {},
   "outputs": [],
   "source": [
    "# Define your PostgreSQL server connection details\n",
    "database_name = 'redcross'\n",
    "username = 'postgres'\n",
    "password = 'postgres'\n",
    "host = '127.0.0.1'  # or your server address\n",
    "port = '5432'  # default PostgreSQL port\n"
   ]
  },
  {
   "cell_type": "markdown",
   "metadata": {},
   "source": [
    "## Transaction to assign volunteers"
   ]
  },
  {
   "cell_type": "code",
   "execution_count": 34,
   "metadata": {},
   "outputs": [
    {
     "name": "stdout",
     "output_type": "stream",
     "text": [
      "skill needed 5  minimum with skill 4  currently assigned  0\n",
      "volunteer_id 170479-955C application id 842\n",
      "assigning with skill 16 170479-955C EventHosting\n",
      "assigned with skill  EventHosting  assigned  1  minimum  4\n",
      "skill needed 2  minimum with skill 4  currently assigned  0\n",
      "volunteer_id 240678-989B application id 2530\n",
      "assigning with skill 16 240678-989B TeamGuide\n",
      "assigned with skill  TeamGuide  assigned  1  minimum  4\n",
      "assigning without skill 16 291069-904R\n",
      "assigning without skill 16 160903A941P\n",
      "assigning without skill 16 011074-9149\n",
      "assigning without skill 16 120398-967M\n",
      "assigning without skill 16 040804A913H\n",
      "assigning with request  16 skills False False\n",
      "registration date is not past and minimum number of volunteers is not met, rollback\n"
     ]
    }
   ],
   "source": [
    "import datetime\n",
    "import psycopg2\n",
    "conn = psycopg2.connect(f\"dbname='{database_name}' user='{username}' host='{host}' password='{password}'\")\n",
    "\n",
    "request_id = 16\n",
    "\n",
    "# --(15p) Create a transaction that will read valid applications for a request. Then\n",
    "# --assigns the applicants as such:\n",
    "# --- Prioritize the skills by their value of importance.\n",
    "# --- Assign volunteers with valid applications and who have these skills\n",
    "# --until the minimum number of volunteers needed for the skills is met\n",
    "# --(assigning here means is_accepted gets TRUE, you may also create a\n",
    "# --separate table volunteer_assignment that tracks request_id and\n",
    "# --volunteer_id who got assigned to the request) (you may use your\n",
    "# --scoring system for this)\n",
    "# -- Assign the rest of applied volunteers.\n",
    "# -- If the register by date is not past and the minimum number of\n",
    "# --volunteers is not met (skill based or general), roll back.\n",
    "# -- If the register by date is not past or the minimum number of\n",
    "# --volunteers is met, commit the assignment.\n",
    "# - - If the register by date is past and the minimum number of volunteers\n",
    "# --is not met, either add more time to the register by date or accept the\n",
    "# --volunteers.\n",
    "\n",
    "\n",
    "with conn.cursor() as curs:\n",
    "    curs.execute(\"\"\"CREATE TABLE if not exists volunteer_assigned ( \n",
    "                assignment_id SERIAL PRIMARY KEY, \n",
    "                request_id INT,\n",
    "                volunteer_id TEXT, \n",
    "                volunteer_skill text, \n",
    "                requested_skill text);\"\"\")\n",
    "\n",
    "    conn.commit()\n",
    "\n",
    "with conn.cursor() as curs:\n",
    "\n",
    "    try:\n",
    "        curs.execute(\"select number_of_volunteers from request where id= %s::int8\", (request_id,))\n",
    "        (vol_num_needed,) = curs.fetchone();\n",
    "   \n",
    "        curs.execute(\"\"\"select skill_name, value as skill_value,min_need as skill_min_need from request_skill \n",
    "                     join request on request.id = request_skill.request_id  \n",
    "                     where request.id = %s::int8\n",
    "                     order by skill_value desc\n",
    "                     \"\"\", (request_id,))\n",
    "        enough_skills = True\n",
    "        for skill_name, skill_value, skill_min_need in curs.fetchall():\n",
    "            curs.execute(\"\"\"\n",
    "                        select count(*)\n",
    "                        from volunteer_application va\n",
    "                        join skill_assignment sa on sa.volunteer_id = va.volunteer_id\n",
    "                        where request_id = %s::int8 and skill_name = %s and va.is_valid = TRUE and va.is_assigned = TRUE\n",
    "                         \"\"\", (request_id, skill_name))\n",
    "            (num_assigned,) = curs.fetchone()\n",
    "            print('skill needed', skill_value, ' minimum with skill', skill_min_need, ' currently assigned ', num_assigned)\n",
    "            curs.execute(\"\"\"\n",
    "                        select va.volunteer_id as volunteer_id, va.id as application_id\n",
    "                        from volunteer_application va\n",
    "                        join skill_assignment sa on sa.volunteer_id = va.volunteer_id\n",
    "                        where request_id = %s::int8 and skill_name =%s and va.is_valid = TRUE and va.is_assigned = FALSE\n",
    "                        \"\"\",(request_id, skill_name))\n",
    "            for volunteer_id, application_id in curs.fetchall():\n",
    "                print('volunteer_id', volunteer_id, 'application id', application_id)\n",
    "                if num_assigned < skill_min_need:\n",
    "                    curs.execute(\"\"\"update volunteer_application set is_assigned=TRUE where id=%s\"\"\", (application_id,))\n",
    "                    num_assigned = num_assigned + 1\n",
    "                    print('assigning with skill', request_id, volunteer_id, skill_name )\n",
    "                else: \n",
    "                    print ('enough assignments already, not assigning ', request_id, volunteer_id, skill_name )\n",
    "            enough_skills = enough_skills and num_assigned >= skill_min_need\n",
    "            print ('assigned with skill ', skill_name, ' assigned ', num_assigned, ' minimum ', skill_min_need)\n",
    "            \n",
    "        curs.execute(\"\"\"\n",
    "                    select count(*)\n",
    "                    from volunteer_application va\n",
    "                    where request_id = %s::int8 and va.is_valid = TRUE and va.is_assigned = TRUE\n",
    "                    \"\"\",(request_id,))\n",
    "        (num_assigned_total,) = curs.fetchone();\n",
    "\n",
    "        curs.execute(\"\"\"\n",
    "                    select va.volunteer_id as volunteer_id, va.id as application_id\n",
    "                    from volunteer_application va\n",
    "                    where request_id = %s::int8 and va.is_valid = TRUE and va.is_assigned = FALSE\n",
    "                    \"\"\",(request_id,))\n",
    "        for volunteer_id, application_id in curs.fetchall():\n",
    "            if num_assigned_total < vol_num_needed:\n",
    "                num_assigned_total = num_assigned_total + 1\n",
    "                curs.execute(\"\"\"update volunteer_application set is_assigned=TRUE where id=%s\"\"\", (application_id,))\n",
    "                print('assigning without skill', request_id, volunteer_id )\n",
    "            else:\n",
    "                break\n",
    "        enough_volunteers = num_assigned_total >= vol_num_needed\n",
    "\n",
    "        print ('assigning with request ', request_id, 'skills', enough_skills, enough_volunteers)        \n",
    "\n",
    "        curs.execute(\"select register_by_date from request where id= %s::int8\", (request_id,))\n",
    "        (register_by_date,) = curs.fetchone();\n",
    "        register_by_date_is_past = datetime.datetime.now() > register_by_date\n",
    "        minimum_number_of_volunteers_is_met = enough_skills and enough_volunteers\n",
    "        if (not register_by_date_is_past and not minimum_number_of_volunteers_is_met):\n",
    "            print ('registration date is not past and minimum number of volunteers is not met, rollback')\n",
    "            conn.rollback()\n",
    "        elif (register_by_date_is_past and not minimum_number_of_volunteers_is_met):\n",
    "            print ('registration date is past and minimum number of volunteers is not met, commit')\n",
    "            conn.commit()\n",
    "        else:\n",
    "            conn.commit()\n",
    "\n",
    "    except (Exception, psycopg2.DatabaseError) as error:\n",
    "        print(error)"
   ]
  }
 ],
 "metadata": {
  "kernelspec": {
   "display_name": "base",
   "language": "python",
   "name": "python3"
  },
  "language_info": {
   "codemirror_mode": {
    "name": "ipython",
    "version": 3
   },
   "file_extension": ".py",
   "mimetype": "text/x-python",
   "name": "python",
   "nbconvert_exporter": "python",
   "pygments_lexer": "ipython3",
   "version": "3.12.3"
  }
 },
 "nbformat": 4,
 "nbformat_minor": 2
}
