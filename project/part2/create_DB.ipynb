{
 "cells": [
  {
   "cell_type": "markdown",
   "metadata": {},
   "source": [
    "# Preamble"
   ]
  },
  {
   "cell_type": "code",
   "execution_count": 36,
   "metadata": {},
   "outputs": [],
   "source": [
    "import sys\n",
    "# pandas to manipulate SQL answer set\n",
    "import pandas as pd\n",
    "import time,os\n",
    "# for Posgresql and other RDBMS\n",
    "from sqlalchemy import create_engine,event,schema,Table,Column, Integer, Float, String, MetaData, TIMESTAMP, Date, text, inspect\n",
    "from sqlalchemy_utils import database_exists,create_database\n",
    "from sqlalchemy.orm import sessionmaker\n",
    "from sqlalchemy.schema import CreateTable"
   ]
  },
  {
   "cell_type": "code",
   "execution_count": 37,
   "metadata": {},
   "outputs": [],
   "source": [
    "# change working directory path to that of the current script file\n",
    "abspath = os.path.abspath(\"__file__\")\n",
    "dname = os.path.dirname(abspath)\n",
    "os.chdir(dname)"
   ]
  },
  {
   "cell_type": "markdown",
   "metadata": {},
   "source": [
    "# Read and clean the Data"
   ]
  },
  {
   "cell_type": "markdown",
   "metadata": {},
   "source": [
    "## Open the data file"
   ]
  },
  {
   "cell_type": "code",
   "execution_count": 38,
   "metadata": {},
   "outputs": [
    {
     "data": {
      "text/plain": [
       "['city',\n",
       " 'volunteer',\n",
       " 'volunteer_range',\n",
       " 'skill',\n",
       " 'skill_assignment',\n",
       " 'interest',\n",
       " 'interest_assignment',\n",
       " 'beneficiary',\n",
       " 'request',\n",
       " 'request_skill',\n",
       " 'request_location',\n",
       " 'volunteer_application']"
      ]
     },
     "execution_count": 38,
     "metadata": {},
     "output_type": "execute_result"
    }
   ],
   "source": [
    "# Load the Excel file\n",
    "data_file_path = \"./data.xlsx\"\n",
    "excel_file = pd.ExcelFile(data_file_path)\n",
    "\n",
    "# Get the list of sheet names\n",
    "excel_file.sheet_names"
   ]
  },
  {
   "cell_type": "markdown",
   "metadata": {},
   "source": [
    "## Import excel sheets into data frames"
   ]
  },
  {
   "cell_type": "code",
   "execution_count": 39,
   "metadata": {},
   "outputs": [
    {
     "data": {
      "text/plain": [
       "{'city':          name   id             geolocation\n",
       " 0       Rusko  704    13.4134995/45.792650\n",
       " 1    Hailuoto   72   -79.132557/-40.995129\n",
       " 2      Liperi  426     47.244262/80.880444\n",
       " 3      Ulvila  886   18.6986795/-17.160223\n",
       " 4     Tammela  834     37.935520/12.226293\n",
       " 5  Rautavaara  687   66.6004235/-62.724453\n",
       " 6    Myrskylä  504   45.475847/-105.227997\n",
       " 7      Säkylä  783  -14.344729/-104.974555,\n",
       " 'volunteer':               id  birthdate  city_id                     name  \\\n",
       " 0    011095-974M 1995-10-01      426       Ulla Saari-Tiainen   \n",
       " 1    200958-9326 1958-09-20      426           Ilona Nieminen   \n",
       " 2    120791-9129 1991-07-12      687                Miia Repo   \n",
       " 3    110166-9408 1966-01-11      886              Raili Lammi   \n",
       " 4    070171-961M 1971-01-07      834  Henri Ruotsalainen-Mäki   \n",
       " ..           ...        ...      ...                      ...   \n",
       " 186  020500A905H 2000-05-02       72           Mikko Heinonen   \n",
       " 187  280183-963B 1983-01-28      783            Juhani Takala   \n",
       " 188  100104A910M 2004-01-10      886            Mari Karvinen   \n",
       " 189  271099-952R 1999-10-27      886           Eila Heiskanen   \n",
       " 190  130184-978D 1984-01-13      504      Anneli Jääskeläinen   \n",
       " \n",
       "                                             email  \\\n",
       " 0         ulla.saari-tiainen@dbcourse.cs.aalto.fi   \n",
       " 1             ilona.nieminen@dbcourse.cs.aalto.fi   \n",
       " 2                  miia.repo@dbcourse.cs.aalto.fi   \n",
       " 3                raili.lammi@dbcourse.cs.aalto.fi   \n",
       " 4    henri.ruotsalainen-maki@dbcourse.cs.aalto.fi   \n",
       " ..                                            ...   \n",
       " 186           mikko.heinonen@dbcourse.cs.aalto.fi   \n",
       " 187            juhani.takala@dbcourse.cs.aalto.fi   \n",
       " 188            mari.karvinen@dbcourse.cs.aalto.fi   \n",
       " 189           eila.heiskanen@dbcourse.cs.aalto.fi   \n",
       " 190      anneli.jaaskelainen@dbcourse.cs.aalto.fi   \n",
       " \n",
       "                                  address  travel_readiness  \n",
       " 0                 Uskalikontie 5, Liperi               637  \n",
       " 1       Mannerheiminbulevardi 08, Liperi               695  \n",
       " 2      Yhteiskoulunpolku 513, Rautavaara              1026  \n",
       " 3            Nervanderinkuja 484, Ulvila              1191  \n",
       " 4         Castréninbulevardi 59, Tammela               187  \n",
       " ..                                   ...               ...  \n",
       " 186          Betleheminkatu 00, Hailuoto                78  \n",
       " 187              Orisaarenkatu 2, Säkylä               961  \n",
       " 188             Laakavuorentie 0, Ulvila               262  \n",
       " 189                   Jännetie 5, Ulvila               962  \n",
       " 190  Taavetti Laitisen kuja 88, Myrskylä              1204  \n",
       " \n",
       " [191 rows x 7 columns],\n",
       " 'volunteer_range':     volunteer_id  city_id\n",
       " 0    011095-974M      426\n",
       " 1    011095-974M      704\n",
       " 2    011095-974M       72\n",
       " 3    011095-974M      504\n",
       " 4    200958-9326      426\n",
       " ..           ...      ...\n",
       " 451  271099-952R      704\n",
       " 452  130184-978D      504\n",
       " 453  130184-978D      704\n",
       " 454  130184-978D       72\n",
       " 455  130184-978D      834\n",
       " \n",
       " [456 rows x 2 columns],\n",
       " 'skill':                          name  \\\n",
       " 0   CommunicationAndMarketing   \n",
       " 1            CookingAndBaking   \n",
       " 2           DigitalCompetence   \n",
       " 3                EventHosting   \n",
       " 4           EventOrganization   \n",
       " 5        FinanceAndAccounting   \n",
       " 6        HealthCareOrFirstAid   \n",
       " 7               MeetingPeople   \n",
       " 8              Organizational   \n",
       " 9         PhotographyAndVideo   \n",
       " 10         PublicPerformances   \n",
       " 11                     Rescue   \n",
       " 12                  TeamGuide   \n",
       " 13                TrainPeople   \n",
       " \n",
       "                                           description  \n",
       " 0   Expertly convey humanitarian messages and enga...  \n",
       " 1   Provide nourishment and comfort to those in ne...  \n",
       " 2   Utilize technology adeptly to streamline human...  \n",
       " 3   Skilfully coordinate and facilitate gatherings...  \n",
       " 4   Efficiently plan and execute events that mobil...  \n",
       " 5   Ensure transparent financial management and ac...  \n",
       " 6   Deliver essential medical assistance and first...  \n",
       " 7   Build meaningful connections and partnerships ...  \n",
       " 8   Establish and maintain efficient systems and s...  \n",
       " 9   Capture compelling visuals to document humanit...  \n",
       " 10  Engage audiences and raise awareness about hum...  \n",
       " 11  Swiftly respond to emergencies and provide lif...  \n",
       " 12  Lead and mentor teams to collaborate effective...  \n",
       " 13  Empower individuals and communities with the k...  ,\n",
       " 'skill_assignment':      volunteer_id                 skill_name\n",
       " 0     011095-974M  CommunicationAndMarketing\n",
       " 1     011095-974M                TrainPeople\n",
       " 2     011095-974M       HealthCareOrFirstAid\n",
       " 3     011095-974M       FinanceAndAccounting\n",
       " 4     011095-974M          DigitalCompetence\n",
       " ...           ...                        ...\n",
       " 1209  130184-978D         PublicPerformances\n",
       " 1210  130184-978D                  TeamGuide\n",
       " 1211  130184-978D                     Rescue\n",
       " 1212  130184-978D              MeetingPeople\n",
       " 1213  130184-978D          EventOrganization\n",
       " \n",
       " [1214 rows x 2 columns],\n",
       " 'interest':                               name\n",
       " 0                 CollectDonations\n",
       " 1                         FirstAid\n",
       " 2                         FoodHelp\n",
       " 3                    GuideAndTeach\n",
       " 4                     HelpInCrisis\n",
       " 5                 ImmigrantSupport\n",
       " 6               OrganiseActivities\n",
       " 7                 PromoteWellbeing\n",
       " 8                      WorkInATeam\n",
       " 9   WorkInMulticulturalEnvironment\n",
       " 10                 WorkWithElderly\n",
       " 11                   WorkWithYoung,\n",
       " 'interest_assignment':            interest_name volunteer_id\n",
       " 0               FoodHelp  011095-974M\n",
       " 1          GuideAndTeach  011095-974M\n",
       " 2       CollectDonations  200958-9326\n",
       " 3       ImmigrantSupport  200958-9326\n",
       " 4       PromoteWellbeing  200958-9326\n",
       " ...                  ...          ...\n",
       " 1225    PromoteWellbeing  271099-952R\n",
       " 1226    CollectDonations  130184-978D\n",
       " 1227         WorkInATeam  130184-978D\n",
       " 1228  OrganiseActivities  130184-978D\n",
       " 1229            FirstAid  130184-978D\n",
       " \n",
       " [1230 rows x 2 columns],\n",
       " 'beneficiary':    id              name                        address  city_id\n",
       " 0   1          Hospital  Ida Ekmanin kuja 68, Myrskylä      504\n",
       " 1   2         Food Bank          Ostostie 268, Tammela      834\n",
       " 2   3      Elderly Care        Bengalinkatu 069, Rusko      704\n",
       " 3   4      Youth Centre        Oraspolku 4, Rautavaara      687\n",
       " 4   5  Homeless Shelter  Laajasalonbulevardi 97, Rusko      704\n",
       " 5   6  Blood-Drive (PA)     Verkkobulevardi 655, Rusko      704\n",
       " 6   7   Event First-Aid       Puuskatie 15, Rautavaara      687\n",
       " 7   8       Immigration           Ormustie 8, Hailuoto       72\n",
       " 8   9      Local Branch     Pyörökivenpolku 525, Rusko      704,\n",
       " 'request':       id                     title  beneficiary_id  number_of_volunteers  \\\n",
       " 0      1       work in team needed               3                    14   \n",
       " 1      2    work with young needed               9                    25   \n",
       " 2      3    guide and teach needed               9                    31   \n",
       " 3      4    guide and teach needed               5                    19   \n",
       " 4      5  work with elderly needed               4                    23   \n",
       " ..   ...                       ...             ...                   ...   \n",
       " 377  378    work with young needed               4                    11   \n",
       " 378  379  immigrant support needed               3                    28   \n",
       " 379  380    work with young needed               3                    18   \n",
       " 380  381    work with young needed               5                    20   \n",
       " 381  382  collect donations needed               7                    22   \n",
       " \n",
       "      priority_value          start_date            end_date  \\\n",
       " 0                 1 2024-07-25 22:15:00 2024-07-28 18:00:00   \n",
       " 1                 3 2022-05-31 04:15:00 2022-06-01 17:00:00   \n",
       " 2                 2 2024-07-22 22:15:00 2024-07-27 17:30:00   \n",
       " 3                 1 2024-09-25 02:30:00 2024-09-25 18:30:00   \n",
       " 4                 2 2021-03-01 01:15:00 2021-03-07 18:45:00   \n",
       " ..              ...                 ...                 ...   \n",
       " 377               1 2021-12-29 23:30:00 2021-12-31 12:00:00   \n",
       " 378               1 2020-07-07 00:00:00 2020-07-07 16:00:00   \n",
       " 379               2 2020-07-11 23:15:00 2020-07-14 16:00:00   \n",
       " 380               5 2024-06-24 00:15:00 2024-06-25 16:15:00   \n",
       " 381               2 2024-06-08 04:00:00 2024-06-10 16:45:00   \n",
       " \n",
       "        register_by_date  \n",
       " 0   2024-07-18 01:00:00  \n",
       " 1   2022-05-17 04:00:00  \n",
       " 2   2024-07-12 06:00:00  \n",
       " 3   2024-09-17 02:59:00  \n",
       " 4   2021-02-15 09:30:00  \n",
       " ..                  ...  \n",
       " 377 2021-12-27 18:59:00  \n",
       " 378 2020-07-05 02:00:00  \n",
       " 379 2020-07-03 06:00:00  \n",
       " 380 2024-06-19 01:30:00  \n",
       " 381 2024-05-31 00:30:00  \n",
       " \n",
       " [382 rows x 8 columns],\n",
       " 'request_skill':       request_id                 skill_name  min_need  value\n",
       " 0              1               EventHosting         3      2\n",
       " 1              1  CommunicationAndMarketing         5      2\n",
       " 2              1        PhotographyAndVideo         2      1\n",
       " 3              1          EventOrganization         2      2\n",
       " 4              2       HealthCareOrFirstAid         1      4\n",
       " ...          ...                        ...       ...    ...\n",
       " 1936         382  CommunicationAndMarketing         2      2\n",
       " 1937         382                TrainPeople         3      0\n",
       " 1938         382          DigitalCompetence         3      4\n",
       " 1939         382          EventOrganization         3      4\n",
       " 1940         382              MeetingPeople         1      1\n",
       " \n",
       " [1941 rows x 4 columns],\n",
       " 'request_location':       request_id  city_id\n",
       " 0              1      704\n",
       " 1              1      504\n",
       " 2              1      687\n",
       " 3              1      426\n",
       " 4              2      704\n",
       " ...          ...      ...\n",
       " 1075         382      687\n",
       " 1076         382       72\n",
       " 1077         382      783\n",
       " 1078         382      426\n",
       " 1079         382      886\n",
       " \n",
       " [1080 rows x 2 columns],\n",
       " 'volunteer_application':         id  request_id volunteer_id                modified  is_valid\n",
       " 0        1         314  011095-974M 2024-06-20 21:23:25.618      True\n",
       " 1        2         263  011095-974M 2023-06-22 13:16:35.237      True\n",
       " 2        3         147  011095-974M 2024-10-23 22:54:44.452      True\n",
       " 3        4         171  011095-974M 2024-10-07 07:24:50.514      True\n",
       " 4        5          54  011095-974M 2023-07-06 08:54:41.767     False\n",
       " ...    ...         ...          ...                     ...       ...\n",
       " 2719  2720         364  271099-952R 2024-03-09 05:10:56.388      True\n",
       " 2720  2721         182  271099-952R 2021-02-19 12:54:10.608      True\n",
       " 2721  2722          36  271099-952R 2024-09-03 11:59:07.942      True\n",
       " 2722  2723         285  130184-978D 2021-04-19 05:53:03.640      True\n",
       " 2723  2724         342  130184-978D 2021-07-07 20:40:02.382      True\n",
       " \n",
       " [2724 rows x 5 columns]}"
      ]
     },
     "metadata": {},
     "output_type": "display_data"
    }
   ],
   "source": [
    "DB_dict = {}\n",
    "\n",
    "for sheet_name in excel_file.sheet_names:\n",
    "    DB_dict[sheet_name] = pd.read_excel(data_file_path, sheet_name=sheet_name)\n",
    "\n",
    "display(DB_dict)"
   ]
  },
  {
   "cell_type": "markdown",
   "metadata": {},
   "source": [
    "### Define primary keys for the imported relations"
   ]
  },
  {
   "cell_type": "code",
   "execution_count": 40,
   "metadata": {},
   "outputs": [],
   "source": [
    "PK_dict = {}\n",
    "\n",
    "PK_dict['city']= [\"id\"]\n",
    "PK_dict['volunteer']= [\"id\"]\n",
    "PK_dict['volunteer_range']= [\"volunteer_id\", \"city_id\"]\n",
    "PK_dict['skill']= [\"name\"]\n",
    "PK_dict['skill_assignment']= [\"volunteer_id\", \"skill_name\"]\n",
    "PK_dict['interest']= [\"name\"]\n",
    "PK_dict['interest_assignment']= [\"interest_name\", \"volunteer_id\"]\n",
    "PK_dict['beneficiary']= [\"id\"]\n",
    "PK_dict['request']= [\"id\"]\n",
    "PK_dict['request_skill']= [\"request_id\", \"skill_name\"]\n",
    "PK_dict['request_location']= [\"request_id\", \"city_id\"]\n",
    "PK_dict['volunteer_application'] = [\"id\"]\n",
    "\n",
    "assert (all([key in DB_dict.keys() for key in PK_dict]) and all([key in PK_dict.keys() for key in DB_dict.keys()]) ), \\\n",
    "    \"Every relation in the DB must have its primary keys defined!\""
   ]
  },
  {
   "cell_type": "markdown",
   "metadata": {},
   "source": [
    "### Check PK datatypes in each relation:"
   ]
  },
  {
   "cell_type": "code",
   "execution_count": 41,
   "metadata": {},
   "outputs": [
    {
     "name": "stdout",
     "output_type": "stream",
     "text": [
      "city : id    int64\n",
      "dtype: object\n",
      "volunteer : id    object\n",
      "dtype: object\n",
      "volunteer_range : volunteer_id    object\n",
      "city_id          int64\n",
      "dtype: object\n",
      "skill : name    object\n",
      "dtype: object\n",
      "skill_assignment : volunteer_id    object\n",
      "skill_name      object\n",
      "dtype: object\n",
      "interest : name    object\n",
      "dtype: object\n",
      "interest_assignment : interest_name    object\n",
      "volunteer_id     object\n",
      "dtype: object\n",
      "beneficiary : id    int64\n",
      "dtype: object\n",
      "request : id    int64\n",
      "dtype: object\n",
      "request_skill : request_id     int64\n",
      "skill_name    object\n",
      "dtype: object\n",
      "request_location : request_id    int64\n",
      "city_id       int64\n",
      "dtype: object\n",
      "volunteer_application : id    int64\n",
      "dtype: object\n"
     ]
    }
   ],
   "source": [
    "for relation in DB_dict.keys():\n",
    "    pk_column = DB_dict[relation][PK_dict[relation]]\n",
    "    print(relation, \":\", pk_column.dtypes)"
   ]
  },
  {
   "cell_type": "code",
   "execution_count": 42,
   "metadata": {},
   "outputs": [],
   "source": [
    "# helper to convert PK list elements to a proper string format\n",
    "def pk_wrap(str_list):\n",
    "    if len(str_list) < 2:\n",
    "        return \"(\"+str_list[0]+\")\"\n",
    "    else:\n",
    "        return str(tuple(str_list)).replace(\"'\", \"\")\n",
    "    \n",
    "\n",
    "def add_PK_constraint(engine, relation):\n",
    "    \n",
    "    pk_attributes = pk_wrap(PK_dict[relation])\n",
    "\n",
    "    # add a primary key constraint\n",
    "    with engine.connect() as conn:\n",
    "        alter_table_sql = text(f\"\"\"\n",
    "        ALTER TABLE {relation}\n",
    "        ADD CONSTRAINT {relation}_pkey PRIMARY KEY {pk_attributes};\n",
    "        \"\"\")\n",
    "          \n",
    "        try:\n",
    "            print(\"Trying to make\", pk_attributes, \"attributes the PK of the\", relation, \"relation.\")\n",
    "            conn.execute(alter_table_sql) \n",
    "            conn.commit()\n",
    "            print(\"No errors detected...\")\n",
    "        except Exception as e:\n",
    "          print(f\"Error: {e}\")\n"
   ]
  },
  {
   "cell_type": "code",
   "execution_count": 43,
   "metadata": {},
   "outputs": [],
   "source": [
    "def verify_constraints(engine, relation):\n",
    "    with engine.connect() as conn:\n",
    "        verify_constraints_sql = text(f\"\"\"\n",
    "        SELECT \n",
    "            kcu.table_schema,\n",
    "            kcu.table_name,\n",
    "            tco.constraint_name,\n",
    "            kcu.column_name,\n",
    "            kcu.ordinal_position\n",
    "        FROM \n",
    "            information_schema.table_constraints tco\n",
    "        JOIN \n",
    "            information_schema.key_column_usage kcu \n",
    "            ON kcu.constraint_name = tco.constraint_name\n",
    "            AND kcu.constraint_schema = tco.constraint_schema\n",
    "            AND kcu.constraint_name = tco.constraint_name\n",
    "        WHERE \n",
    "            tco.constraint_type = 'PRIMARY KEY' \n",
    "            AND kcu.table_name = '{relation}'\n",
    "        ORDER BY \n",
    "            kcu.table_schema,\n",
    "            kcu.table_name,\n",
    "            kcu.ordinal_position;\n",
    "        \"\"\")\n",
    "\n",
    "        # Execute the query and fetch the results\n",
    "        result = conn.execute(verify_constraints_sql)\n",
    "\n",
    "        # Print the results\n",
    "        for row in result:\n",
    "            print(row)"
   ]
  },
  {
   "cell_type": "markdown",
   "metadata": {},
   "source": [
    "# Create the Databse"
   ]
  },
  {
   "cell_type": "markdown",
   "metadata": {},
   "source": [
    "## Connect to the DB server"
   ]
  },
  {
   "cell_type": "code",
   "execution_count": 44,
   "metadata": {},
   "outputs": [
    {
     "name": "stdout",
     "output_type": "stream",
     "text": [
      "Connection to PostgreSQL server successful.\n",
      "Database 'group_7_2024' already exists.\n"
     ]
    }
   ],
   "source": [
    "# Define your PostgreSQL server connection details\n",
    "database_name = 'group_7_2024'\n",
    "username = 'group_7_2024'\n",
    "password = 'SNMsELrjkpQC'\n",
    "host = 'dbcourse.cs.aalto.fi'  # or your server address\n",
    "port = '5432'  # default PostgreSQL port\n",
    "\n",
    "\n",
    "# Create a connection URL\n",
    "connection_url = f'postgresql+psycopg2://{username}:{password}@{host}:{port}/{database_name}'\n",
    "\n",
    "try:\n",
    "    # Create an engine to test the connection\n",
    "    engine = create_engine(connection_url) #.replace(f'/{database_name}', '/postgres'))  # Connect to the default 'postgres' database\n",
    "    with engine.connect() as conn:\n",
    "        print(\"Connection to PostgreSQL server successful.\")\n",
    "except Exception as e:\n",
    "    print(f\"Failed to connect to the PostgreSQL server: {e}\")\n",
    "    exit(1)\n",
    "\n",
    "# Check if the database already exists\n",
    "if not database_exists(connection_url):\n",
    "    # Create the new database\n",
    "    create_database(connection_url)\n",
    "    print(f\"Database '{database_name}' created successfully.\")\n",
    "else:\n",
    "    print(f\"Database '{database_name}' already exists.\")\n",
    "\n"
   ]
  },
  {
   "cell_type": "markdown",
   "metadata": {},
   "source": [
    "## Populate the DB with data"
   ]
  },
  {
   "cell_type": "code",
   "execution_count": 27,
   "metadata": {},
   "outputs": [
    {
     "name": "stdout",
     "output_type": "stream",
     "text": [
      "Trying to make (id) attributes the PK of the city relation.\n",
      "No errors detected...\n",
      "Trying to make (id) attributes the PK of the volunteer relation.\n",
      "No errors detected...\n",
      "Trying to make (volunteer_id, city_id) attributes the PK of the volunteer_range relation.\n",
      "No errors detected...\n",
      "Trying to make (name) attributes the PK of the skill relation.\n",
      "No errors detected...\n",
      "Trying to make (volunteer_id, skill_name) attributes the PK of the skill_assignment relation.\n",
      "No errors detected...\n",
      "Trying to make (name) attributes the PK of the interest relation.\n",
      "No errors detected...\n",
      "Trying to make (interest_name, volunteer_id) attributes the PK of the interest_assignment relation.\n",
      "No errors detected...\n",
      "Trying to make (id) attributes the PK of the beneficiary relation.\n",
      "No errors detected...\n",
      "Trying to make (id) attributes the PK of the request relation.\n",
      "No errors detected...\n",
      "Trying to make (request_id, skill_name) attributes the PK of the request_skill relation.\n",
      "No errors detected...\n",
      "Trying to make (request_id, city_id) attributes the PK of the request_location relation.\n",
      "No errors detected...\n",
      "Trying to make (id) attributes the PK of the volunteer_application relation.\n",
      "No errors detected...\n"
     ]
    }
   ],
   "source": [
    "for relation in DB_dict.keys():\n",
    "    DB_dict[relation].to_sql(relation, engine, if_exists='replace', index=False)\n",
    "    add_PK_constraint(engine, relation)\n"
   ]
  },
  {
   "cell_type": "markdown",
   "metadata": {},
   "source": [
    "## Check the DB content"
   ]
  },
  {
   "cell_type": "code",
   "execution_count": 147,
   "metadata": {},
   "outputs": [
    {
     "name": "stdout",
     "output_type": "stream",
     "text": [
      "Tables in the database:\n",
      "city\n",
      "volunteer\n",
      "volunteer_range\n",
      "skill\n",
      "skill_assignment\n",
      "interest\n",
      "interest_assignment\n",
      "beneficiary\n",
      "request\n",
      "request_skill\n",
      "request_location\n",
      "volunteer_application\n"
     ]
    }
   ],
   "source": [
    "# Create an inspector\n",
    "inspector = inspect(engine)\n",
    "\n",
    "# Get the list of all tables\n",
    "tables = inspector.get_table_names()\n",
    "\n",
    "# Print the tables\n",
    "print(\"Tables in the database:\")\n",
    "for table in tables:\n",
    "    print(table)"
   ]
  },
  {
   "cell_type": "markdown",
   "metadata": {},
   "source": [
    "## Close connection to the DB"
   ]
  },
  {
   "cell_type": "code",
   "execution_count": 14,
   "metadata": {},
   "outputs": [
    {
     "name": "stdout",
     "output_type": "stream",
     "text": [
      "Connection to PostgreSQL server closed.\n"
     ]
    },
    {
     "ename": "",
     "evalue": "",
     "output_type": "error",
     "traceback": [
      "\u001b[1;31mThe Kernel crashed while executing code in the current cell or a previous cell. \n",
      "\u001b[1;31mPlease review the code in the cell(s) to identify a possible cause of the failure. \n",
      "\u001b[1;31mClick <a href='https://aka.ms/vscodeJupyterKernelCrash'>here</a> for more info. \n",
      "\u001b[1;31mView Jupyter <a href='command:jupyter.viewOutput'>log</a> for further details."
     ]
    }
   ],
   "source": [
    "# Dispose of the engine to close the connection\n",
    "engine.dispose()\n",
    "print(\"Connection to PostgreSQL server closed.\")"
   ]
  }
 ],
 "metadata": {
  "kernelspec": {
   "display_name": "base",
   "language": "python",
   "name": "python3"
  },
  "language_info": {
   "codemirror_mode": {
    "name": "ipython",
    "version": 3
   },
   "file_extension": ".py",
   "mimetype": "text/x-python",
   "name": "python",
   "nbconvert_exporter": "python",
   "pygments_lexer": "ipython3",
   "version": "3.12.3"
  }
 },
 "nbformat": 4,
 "nbformat_minor": 2
}
